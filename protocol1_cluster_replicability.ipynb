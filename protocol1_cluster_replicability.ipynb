{
 "cells": [
  {
   "cell_type": "raw",
   "metadata": {},
   "source": [
    "---\n",
    "title: \"Scaling up reproducible research for single cell transcriptomics using MetaNeighbor (Protocol 1)\"\n",
    "output:\n",
    "  pdf_document:\n",
    "    fig_caption: yes\n",
    "    number_sections: yes\n",
    "graphics: yes\n",
    "---"
   ]
  },
  {
   "cell_type": "markdown",
   "metadata": {},
   "source": [
    "\n",
    "# Protocol 1: assessment of cell type replicability with unsupervised MetaNeighbor\n",
    "\n",
    "Protocol 1 demonstrates how to compute and visualize cluster replicability across 4 human pancreas datasets. We will show steps detailing how to install MetaNeighbor, how to download and reformat the datasets with the SingleCellExperiment package, how to compute and interpret MetaNeighbor AUROCs. All code blocks can be run in R command line, Rstudio, RMarkdown notebooks or a jupyter notebook with an R kernel.\n",
    "\n",
    "## Step 0: Installation of MetaNeighbor and packages used in the protocol\n",
    "\n",
    "1. We start by installing the latest MetaNeighbor package from the Gillis lab GitHub page."
   ]
  },
  {
   "cell_type": "code",
   "execution_count": null,
   "metadata": {
    "eval": true,
    "name": "install_mn"
   },
   "outputs": [],
   "source": [
    "if (!require('devtools')) {\n",
    "  install.packages('devtools', quiet=TRUE)\n",
    "}\n",
    "#devtools::install_github(\"gillislab/MetaNeighbor\")\n",
    "devtools::install_github(\"gillislab/MetaNeighbor\", ref=\"utility_dev\")"
   ]
  },
  {
   "cell_type": "markdown",
   "metadata": {},
   "source": [
    "2. We also install the following packages, which are not necessary to run MetaNeighbor itself, but are needed to run the protocol."
   ]
  },
  {
   "cell_type": "code",
   "execution_count": null,
   "metadata": {
    "eval": true,
    "lines_to_next_cell": 2,
    "name": "install_utility"
   },
   "outputs": [],
   "source": [
    "to_install = c(\"scRNAseq\", \"tidyverse\", \"org.Hs.eg.db\")\n",
    "installed = sapply(to_install, requireNamespace)\n",
    "if (sum(!installed) > 0) {\n",
    "    if (!requireNamespace(\"BiocManager\", quietly = TRUE)) {\n",
    "        install.packages(\"BiocManager\")\n",
    "        BiocManager::install()\n",
    "    }\n",
    "    BiocManager::install(to_install[!installed])\n",
    "}"
   ]
  },
  {
   "cell_type": "markdown",
   "metadata": {},
   "source": [
    "## Step 1: creation of a merged SingleCellExperiment dataset\n",
    "\n",
    "3. We consider 4 pancreatic datasets along with their independent annotation (from the original publication). MetaNeighbor expects a gene x cell matrix encapsulated in a SummarizedExperiment format. We recommend the SingleCellExperiment (SCE) package, because it is able to handle sparse matrix formats. We load the pancreas datasets using the scRNAseq package, which provide annotated datasets that are already in the SingleCellExperiment format:"
   ]
  },
  {
   "cell_type": "code",
   "execution_count": null,
   "metadata": {
    "eval": true,
    "name": "load_pancreas"
   },
   "outputs": [],
   "source": [
    "library(scRNAseq)\n",
    "my_data <- list(\n",
    "    baron = BaronPancreasData(),\n",
    "    lawlor = LawlorPancreasData(),\n",
    "    seger = SegerstolpePancreasData(),\n",
    "    muraro = MuraroPancreasData()\n",
    ")"
   ]
  },
  {
   "cell_type": "markdown",
   "metadata": {},
   "source": [
    "4. MetaNeighbor's \"mergeSCE\" function can be used to merge multiple SingleCellExperiment objects. Importantly, the output object will be restricted to genes, metadata columns and assays that are common to every dataset. Before we use \"mergeSCE\", we need to make sure that gene and metadata information align across datasets.\n",
    "\n",
    "We start by checking if gene information aligns (stored in the \"rownames\" slot of the SCE object)."
   ]
  },
  {
   "cell_type": "code",
   "execution_count": null,
   "metadata": {
    "eval": true,
    "lines_to_next_cell": 0,
    "name": "check_genes"
   },
   "outputs": [],
   "source": [
    "lapply(my_data, function(x) head(rownames(x), 3))"
   ]
  },
  {
   "cell_type": "markdown",
   "metadata": {},
   "source": [
    "Two datasets (Baron, Segerstolpe) use gene symbols, one dataset (Muraro) combines symbols with chromosome information (to avoid duplicate gene names) and the last dataset (Lawlor) uses Ensemble identifiers. We convert all gene names to unique gene symbols. We start by converting gene names to symbols in the Muraro dataset, which are stored in the \"rowData\" slot of the SCE object:"
   ]
  },
  {
   "cell_type": "code",
   "execution_count": null,
   "metadata": {
    "eval": true,
    "lines_to_next_cell": 0,
    "name": "convert_genes_muraro"
   },
   "outputs": [],
   "source": [
    "rownames(my_data$muraro) <- rowData(my_data$muraro)$symbol\n",
    "my_data$muraro <- my_data$muraro[!duplicated(rownames(my_data$muraro)),]"
   ]
  },
  {
   "cell_type": "markdown",
   "metadata": {},
   "source": [
    "To circumvent the initial problem of genes with duplicate names, we also remove all duplicated symbols. Next, we convert Ensemble IDs to symbols in the Lawlor dataset, removing all IDs with no match and duplicated symbols:"
   ]
  },
  {
   "cell_type": "code",
   "execution_count": null,
   "metadata": {
    "eval": true,
    "name": "convert_genes_lawlor"
   },
   "outputs": [],
   "source": [
    "library(org.Hs.eg.db)\n",
    "symbols <- mapIds(org.Hs.eg.db, keys=rownames(my_data$lawlor), keytype=\"ENSEMBL\", column=\"SYMBOL\")\n",
    "keep <- !is.na(symbols) & !duplicated(symbols)\n",
    "my_data$lawlor <- my_data$lawlor[keep,]\n",
    "rownames(my_data$lawlor) <- symbols[keep]"
   ]
  },
  {
   "cell_type": "markdown",
   "metadata": {},
   "source": [
    "5. We now turn our attention to metadata, which is stored in the \"colData\" slot of the SCE objects. Here we need to make sure that the column that contains cell type information is labeled identically in all datasets."
   ]
  },
  {
   "cell_type": "code",
   "execution_count": null,
   "metadata": {
    "eval": true,
    "name": "check_metadata"
   },
   "outputs": [],
   "source": [
    "lapply(my_data, function(x) colnames(colData(x)))"
   ]
  },
  {
   "cell_type": "markdown",
   "metadata": {},
   "source": [
    "Two datasets have the cell type information in the \"cell type\" column, the other two in the \"label\" column. For clarity, we add a \"cell type\" column in the latter two datasets."
   ]
  },
  {
   "cell_type": "code",
   "execution_count": null,
   "metadata": {
    "eval": true,
    "name": "convert_metadata"
   },
   "outputs": [],
   "source": [
    "my_data$baron$\"cell type\" <- my_data$baron$label\n",
    "my_data$muraro$\"cell type\" <- my_data$muraro$label"
   ]
  },
  {
   "cell_type": "markdown",
   "metadata": {},
   "source": [
    "6. Last, we check that count matrices, stored in the \"assay\" slot, have identical names."
   ]
  },
  {
   "cell_type": "code",
   "execution_count": null,
   "metadata": {
    "eval": true,
    "lines_to_next_cell": 2,
    "name": "check_assays"
   },
   "outputs": [],
   "source": [
    "lapply(my_data, function(x) names(assays(x)))"
   ]
  },
  {
   "cell_type": "markdown",
   "metadata": {},
   "source": [
    "7. Now that gene, cell type and count matrix information is aligned across datasets, we can create a merged dataset. \"mergeSCE\" takes a list of SCE objects as an input and outputs a single SCE object."
   ]
  },
  {
   "cell_type": "code",
   "execution_count": null,
   "metadata": {
    "eval": true,
    "name": "merge_pancreas"
   },
   "outputs": [],
   "source": [
    "library(MetaNeighbor)\n",
    "#devtools::load_all(\"~/projects/metaneighbor/MetaNeighbor\")\n",
    "fused_data = mergeSCE(my_data)\n",
    "dim(fused_data)\n",
    "head(colData(fused_data))"
   ]
  },
  {
   "cell_type": "markdown",
   "metadata": {},
   "source": [
    "The new dataset contains 15,295 common genes, 15,793 cells and two metadata columns: a concatenated \"cell type\" column, and \"study_id\", a column created by \"mergeSCE\" containing the name of the original study (corresponding to the names provided in the \"my_data\" list).\n",
    "\n",
    "8. To avoid having to recreate the merged object, we recommend saving it as an RDS file."
   ]
  },
  {
   "cell_type": "code",
   "execution_count": null,
   "metadata": {
    "eval": true,
    "name": "save_pancreas"
   },
   "outputs": [],
   "source": [
    "saveRDS(fused_data, \"merged_pancreas.rds\")"
   ]
  },
  {
   "cell_type": "markdown",
   "metadata": {},
   "source": [
    "## Step 2: Hierarchical cluster replicability analysis\n",
    "\n",
    "9. We load the MetaNeighbor (analysis) and the SingleCellExperiment (data handling) libraries, as well as the previously created pancreas dataset."
   ]
  },
  {
   "cell_type": "code",
   "execution_count": null,
   "metadata": {
    "eval": true,
    "name": "load_merged_pancreas"
   },
   "outputs": [],
   "source": [
    "library(MetaNeighbor)\n",
    "library(SingleCellExperiment)\n",
    "\n",
    "pancreas_data = readRDS(\"merged_pancreas.rds\")"
   ]
  },
  {
   "cell_type": "markdown",
   "metadata": {},
   "source": [
    "10. To perform neighbor voting, MetaNeighbor builds a cell-cell similarity network, which we defined as the Spearman correlation over a user-defined set of genes. We found that we obtained best results by picking genes that are highly variable across datasets, which can be picked using the \"variableGenes\" function."
   ]
  },
  {
   "cell_type": "code",
   "execution_count": null,
   "metadata": {
    "eval": true,
    "name": "compute_global_hvgs"
   },
   "outputs": [],
   "source": [
    "system.time({\n",
    "global_hvgs = variableGenes(dat = pancreas_data, exp_labels = pancreas_data$study_id)\n",
    "})\n",
    "length(global_hvgs)"
   ]
  },
  {
   "cell_type": "markdown",
   "metadata": {},
   "source": [
    "The function returns a list of 600 genes that were detected as highly variable in each of the 4 datasets.\n",
    "\n",
    "11. The data and a set of biological meaningful genes is all we need to run MetaNeighbor and obtain cluster similarities."
   ]
  },
  {
   "cell_type": "code",
   "execution_count": null,
   "metadata": {
    "eval": true,
    "name": "compute_global_aurocs"
   },
   "outputs": [],
   "source": [
    "system.time({\n",
    "aurocs = MetaNeighborUS(var_genes = global_hvgs,\n",
    "                        dat = pancreas_data,\n",
    "                        study_id = pancreas_data$study_id,\n",
    "                        cell_type = pancreas_data$\"cell type\",\n",
    "                        fast_version = TRUE)\n",
    "})"
   ]
  },
  {
   "cell_type": "markdown",
   "metadata": {},
   "source": [
    "Cluster similarities are defined as an Area Under the ROC curve (AUROC), which range between 0 and 1. The cross-dataset voting framework makes it batch-effect free (very different from average correlation)\n",
    "\n",
    "12. For ease of interpretation the results can be visualized as a symmetric heatmap, where rows and columns are clusters from all datasets."
   ]
  },
  {
   "cell_type": "code",
   "execution_count": null,
   "metadata": {
    "eval": true,
    "fig.height": 6.5,
    "fig.width": 7,
    "name": "plot_global_aurocs"
   },
   "outputs": [],
   "source": [
    "plotHeatmap(aurocs, cex = 0.5)"
   ]
  },
  {
   "cell_type": "markdown",
   "metadata": {},
   "source": [
    "In the heatmap, the color of each square indicates the proximity of a pair of cluster, ranging from blue (low similarity) to red (high similarity). For example, \"baron|gamma\" (2nd row) is highly similar to \"seger|gamma\" (3rd column from the right) but very dissimilar from \"muraro|ductal\" (middle column). To group similar clusters together, \"plotHeatmap\" applies hierarchical clustering on the AUROC matrix. On the heatmap, we see two red blocks that indicate clear hierarchical structure in the data, with endocrine cell types clustering together (e.g., alpha, beta, gamma) and mesenchymal cells on the other side (e.g., amacrine, ductal, endothelial). Note that each red block is composed of smaller red blocks, indicating that clusters can be matched at an even higher resolution. We also see some off-diagonal patterns (e.g., lawlor|Gamma/PP, lawlor|Delta), which generally indicate the presence of doublets or contamination (presence of cells from other cell types), but what matters here is the clear presence of red blocks, which is a strong indicator of replicability.\n",
    "\n",
    "13. To identify pairs of replicable clusters, we rely on a simple heuristics: a pair of cluster is replicable if they are reciprocal top hits (they preferentially vote for each other) and the AUROC exceeds a given threshold value (in our experience, 0.95 is a good heuristic value)."
   ]
  },
  {
   "cell_type": "code",
   "execution_count": null,
   "metadata": {
    "eval": true,
    "name": "show_global_top_hits"
   },
   "outputs": [],
   "source": [
    "topHits(aurocs, dat = pancreas_data, study_id = pancreas_data$study_id, cell_type = pancreas_data$\"cell type\")"
   ]
  },
  {
   "cell_type": "markdown",
   "metadata": {},
   "source": [
    "We find a long list of replicable clusters within endocrine and mesenchymal cell types. This list provides strong evidence that these cell types are robust, as they are identified across all datasets with high AUROC.\n",
    "\n",
    "14. In the case where there is a clear structure in the data (endocrine vs mesenchymal here), we can refine AUROCs by splitting the data. AUROCs have a simple interpretation: an AUROC of 0.6 indicates that cells from a given cell type are ranked in front of 60% of other test cells. However, this interpretation is out-group dependent: because endocrine cells represent ~65% of cells, even unrelated mesenchymal cell types will have an AUROC > 0.65, just because they will always be ranked in front of endocrine cells.\n",
    "\n",
    "By starting with the full datasets, we uncovered the global structure in the data. However, to evaluate replicability of endocrine cell types and reduce dataset composition effects, we can make the assessment more stringent by restricting the outgroup to close cell types, i.e. by keeping only endocrine subtypes. We split cell types in two by using the \"splitClusters\" function and retain only endocrine cell types:"
   ]
  },
  {
   "cell_type": "code",
   "execution_count": null,
   "metadata": {
    "eval": true,
    "lines_to_next_cell": 0,
    "name": "split_global_clusters"
   },
   "outputs": [],
   "source": [
    "level1_split = splitClusters(aurocs, k = 2)\n",
    "level1_split\n",
    "first_split = level1_split[[2]]"
   ]
  },
  {
   "cell_type": "markdown",
   "metadata": {},
   "source": [
    "By outputting \"level1_split\" (not shown here), we found that the clusters were nicely split between mesenchymal and endocrine, and that endocrine clusters where in the second element of the list.\n",
    "\n",
    "15. We repeat the MetaNeighbor analysis on endocrine cells only. First, we subset the data to the endocrine cell types (stored in \"first_split\")."
   ]
  },
  {
   "cell_type": "code",
   "execution_count": null,
   "metadata": {
    "eval": true,
    "name": "subset_global_data"
   },
   "outputs": [],
   "source": [
    "to_keep = makeClusterName(pancreas_data$study_id, pancreas_data$\"cell type\") %in% first_split\n",
    "subdata = pancreas_data[, to_keep]\n",
    "dim(subdata)"
   ]
  },
  {
   "cell_type": "markdown",
   "metadata": {},
   "source": [
    "The new dataset contains the 9341 putative endocrine cells.\n",
    "\n",
    "16. To focus on variability that is specific to endocrine cells, we re-pick highly variable genes:"
   ]
  },
  {
   "cell_type": "code",
   "execution_count": null,
   "metadata": {
    "eval": true,
    "name": "compute_endocrine_hvgs"
   },
   "outputs": [],
   "source": [
    "var_genes = variableGenes(dat = subdata, exp_labels = subdata$study_id)"
   ]
  },
  {
   "cell_type": "markdown",
   "metadata": {},
   "source": [
    "17. Finally we recompute cluster similarities and visualize AUROCs."
   ]
  },
  {
   "cell_type": "code",
   "execution_count": null,
   "metadata": {
    "eval": true,
    "fig.height": 6.5,
    "fig.width": 7,
    "name": "compute_endocrine_aurocs"
   },
   "outputs": [],
   "source": [
    "system.time({\n",
    "aurocs = MetaNeighborUS(var_genes = var_genes,\n",
    "                        dat = subdata, fast_version = TRUE,\n",
    "                        study_id = subdata$study_id,\n",
    "                        cell_type = subdata$\"cell type\")\n",
    "})\n",
    "plotHeatmap(aurocs, cex = 0.7)"
   ]
  },
  {
   "cell_type": "markdown",
   "metadata": {},
   "source": [
    "The resulting heatmap illustrates an example of a strong set of replicating clusters: when the assessment become more stringent (restriction to closely related cell types), the similarity of replicating clusters remains strong (AUROC~1 for alpha, beta, gamma, delta and epsilon cells) while the cross-cluster similarity has decreased (shift from red to blue, e.g. similarity of alpha and beta clusters has shifted from orange/red to dark blue) by virtue of zooming in on a subpart of the dataset.\n",
    "\n",
    "18. We can continue to zoom in as long as there are at least two cell types per dataset:"
   ]
  },
  {
   "cell_type": "code",
   "execution_count": null,
   "metadata": {
    "eval": true,
    "fig.height": 6.5,
    "fig.width": 7,
    "name": "split_endocrine"
   },
   "outputs": [],
   "source": [
    "level2_split = splitClusters(aurocs, k = 3)\n",
    "my_split = level2_split[[3]]\n",
    "keep_cell = makeClusterName(pancreas_data$study_id, pancreas_data$\"cell type\") %in% my_split\n",
    "subdata = pancreas_data[, keep_cell]\n",
    "var_genes = variableGenes(dat = subdata, exp_labels = subdata$study_id)\n",
    "length(var_genes)\n",
    "aurocs = MetaNeighborUS(var_genes = var_genes,\n",
    "                        dat = subdata, fast_version = TRUE,\n",
    "                        study_id = subdata$study_id,\n",
    "                        cell_type = subdata$\"cell type\")\n",
    "plotHeatmap(aurocs, cex = 1)"
   ]
  },
  {
   "cell_type": "markdown",
   "metadata": {},
   "source": [
    "Here we removed the alpha and beta cells (representing close to 85% of endocrine cells) and validate that, even when restricting to neighboring cell types, there is still a clear distinction between delta, gamma and epsilon cells (AUROC ~ 1).\n",
    "\n",
    "## Step 3: stringent assessment of replicability with one-vs-best AUROCs\n",
    "\n",
    "In the previous section, we created progressively more stringent replicability assessments of replicability by selecting more and more specific subsets of related cell types. As an alternative, we provide the \"one-vs-best\" parameter, which offers similar results without having to restrict the dataset by hand. In this scoring mode, MetaNeighbor will automatically identify the two closest matching clusters in each dataset and compute an AUROC based on the voting result for cells from the closest match against cells from the second closest match. Essentially, we are asking how easily a cluster can be distinguished from its closest neighbor.\n",
    "\n",
    "19. To obtain one-vs-best AUROCs, we run the same command as before with two additional parameters: \"one_vs_best = TRUE\" and \"symmetric_output = FALSE\"."
   ]
  },
  {
   "cell_type": "code",
   "execution_count": null,
   "metadata": {
    "eval": true,
    "fig.height": 6.5,
    "fig.width": 7,
    "name": "compute_1v1_aurocs"
   },
   "outputs": [],
   "source": [
    "system.time({\n",
    "best_hits = MetaNeighborUS(var_genes = global_hvgs,\n",
    "                           dat = pancreas_data,\n",
    "                           study_id = pancreas_data$study_id,\n",
    "                           cell_type = pancreas_data$\"cell type\",\n",
    "                           fast_version = TRUE,\n",
    "                           one_vs_best = TRUE, symmetric_output = FALSE)\n",
    "})\n",
    "plotHeatmap(best_hits, cex = 0.5)"
   ]
  },
  {
   "cell_type": "markdown",
   "metadata": {},
   "source": [
    "The interpretation of the heatmap is slightly different compared to one-vs-all AUROCs. First, since we only compare the two closest clusters, most cluster combinations are not tested (NAs, shown in gray on the heatmap). Second, by setting \"symmetric_output=FALSE\", we broke the symmetric of the heatmap: train clusters are shown as columns and test clusters are shown as rows. Since each cluster is only tested against two clusters in each test dataset (closest and second closest match), we have 8 values per column (2 per dataset).\n",
    "\n",
    "This representation helps to rapidly identify a cluster's closest hits as well as their closest outgroup. For example, ductal cells (2nd red square from the top right) strongly match with each other (one-vs-best AUROC>0.8) and acinar cells are their closest outgroup (blue segments in the same column). The non-symmetric view also makes it clear when best hits are not reciprocal. For example, mast cells (first two columns) heavily vote for \"lawlor|Stellate\" and \"muraro|mesenchymal\", but this vote is not reciprocal. This pattern indicates that the mast cell type is missing in the Lawlor and Muraro datasets (or that there are only a few mast cells that have been wrongly assigned to another cell type).\n",
    "\n",
    "20. When using one-vs-best AUROCs, we recommend extracting replicating clusters as meta-clusters. Clusters are part of the same meta-cluster if they are reciprocal best hits. Note that if cluster 1 is the reciprocal best hit of 2 and 3, all three clusters are part of the same meta-cluster, even if 2 and 3 are not reciprocal best hits. To further filter for strongly replicating clusters, we specify an AUROC threshold (in our experience, 0.7 is a strong one-vs-best AUROC threshold)."
   ]
  },
  {
   "cell_type": "code",
   "execution_count": null,
   "metadata": {
    "eval": true,
    "name": "extract_metaclusters"
   },
   "outputs": [],
   "source": [
    "mclusters = extractMetaClusters(best_hits, threshold = 0.7)\n",
    "scoreMetaClusters(mclusters, best_hits)"
   ]
  },
  {
   "cell_type": "markdown",
   "metadata": {},
   "source": [
    "The \"scoreMetaClusters\" provides a good summary of meta-clusters, ordering cell types by the number of datasets in which they replicate, then by average AUROC. We find 12 cell types that have strong support across at least 2 datasets, with 7 cell types replicating across all 4 datasets. 8 cell types are tagged as \"outlier\", as they had no strong match. These cell types usually contain doublets, low quality cells or contaminated cell types. The replicability structure described here can be summarized as an Upset plot."
   ]
  },
  {
   "cell_type": "code",
   "execution_count": null,
   "metadata": {
    "eval": true,
    "fig.height": 6.5,
    "fig.width": 7,
    "lines_to_next_cell": 0,
    "name": "plot_upset"
   },
   "outputs": [],
   "source": [
    "plotUpset(mclusters)"
   ]
  },
  {
   "cell_type": "markdown",
   "metadata": {},
   "source": [
    "Meta-clusters can also be visualized as heatmaps (called \"cell-type badges\") with the \"plotMetaClusters\" function (full output not shown here). Each badge shows an AUROC heatmap restricted to each specific meta-cluster. These badges help diagnose cases where AUROCs are lower in a specific train or test dataset. For example, the \"muraro|duct\" cell type has systematically lower AUROCs, likely indicating the presence of contaminating cells in another cell type (probably \"muraro|unclear\", referring to the original heatmap)."
   ]
  },
  {
   "cell_type": "code",
   "execution_count": null,
   "metadata": {
    "eval": true,
    "name": "plot_meta_clusters"
   },
   "outputs": [],
   "source": [
    "pdf(\"meta_clusters.pdf\")\n",
    "plotMetaClusters(mclusters, best_hits)\n",
    "dev.off()"
   ]
  },
  {
   "cell_type": "markdown",
   "metadata": {},
   "source": [
    "21. The last visualization is an alternative representation of the AUROC heatmap as a graph, which is particularly useful for large datasets. In this graph, top votes (AUROC > 0.5) are shown in black, while outgroup votes (AUROC < 0.5) are shown in orange. To highlight close calls, we recommend keeping only strong outgroup votes, here with AUROC >= 0.4."
   ]
  },
  {
   "cell_type": "code",
   "execution_count": null,
   "metadata": {
    "eval": true,
    "fig.height": 6.5,
    "fig.width": 7,
    "name": "plot_cluster_graph"
   },
   "outputs": [],
   "source": [
    "cluster_graph = makeClusterGraph(best_hits, low_threshold = 0.3)\n",
    "plotClusterGraph(cluster_graph, pancreas_data$study_id, pancreas_data$\"cell type\", size_factor=3, legend_cex=1.5)"
   ]
  },
  {
   "cell_type": "markdown",
   "metadata": {},
   "source": [
    "We note that there are several orange edges, indicating that some cell types had two close matches. To investigate the origin of these close calls, we take \"baron|epsilon\" as our cluster of interest (coi), query its closest neighbors with \"extendClusterSet\", then zoom in on its subgraph with \"subsetClusterGraph\"."
   ]
  },
  {
   "cell_type": "code",
   "execution_count": null,
   "metadata": {
    "eval": true,
    "fig.height": 6.5,
    "fig.width": 7,
    "name": "plot_subgraph"
   },
   "outputs": [],
   "source": [
    "coi = \"baron|epsilon\"\n",
    "coi = extendClusterSet(cluster_graph, initial_set = coi, max_neighbor_distance = 2)\n",
    "subgraph = subsetClusterGraph(cluster_graph, coi)\n",
    "plotClusterGraph(subgraph, pancreas_data$study_id, pancreas_data$\"cell type\", size_factor=5, legend_cex=2)\n",
    "best_hits[coi, coi]"
   ]
  },
  {
   "cell_type": "markdown",
   "metadata": {},
   "source": [
    "Here the explanation of the presence of the orange edges is relatively straightforward: the epsilon cell type seems to be missing in the Lawlor dataset, so votes from \"baron|epsilon\" were equally split between \"Lawlor|Gamma/PP\" and \"Lawlor|Alpha\".\n",
    "\n",
    "In general, the cluster graph can be used to understand how meta-clusters are extracted, why some clusters are tagged and outliers and diagnose problems where resolution of cell types differs across datasets."
   ]
  }
 ],
 "metadata": {
  "jupytext": {
   "cell_metadata_filter": "fig.height,fig.width,name,eval,-all",
   "main_language": "R",
   "notebook_metadata_filter": "-all"
  }
 },
 "nbformat": 4,
 "nbformat_minor": 2
}
