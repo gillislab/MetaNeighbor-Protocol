{
 "cells": [
  {
   "cell_type": "raw",
   "metadata": {},
   "source": [
    "---\n",
    "title: \"Scaling up reproducible research for single cell transcriptomics using MetaNeighbor (Protocol 3)\"\n",
    "output:\n",
    "  pdf_document:\n",
    "    fig_caption: yes\n",
    "graphics: yes\n",
    "---"
   ]
  },
  {
   "cell_type": "code",
   "execution_count": null,
   "metadata": {
    "name": "setup",
    "tags": [
     "remove_cell"
    ]
   },
   "outputs": [],
   "source": [
    "knit_print.data.frame = function(x, ...) {\n",
    "  res = paste(c(\"\", \"\", knitr::kable(x, digits = 2)), collapse = \"\\n\")\n",
    "  knitr::asis_output(res)\n",
    "}\n",
    "\n",
    "registerS3method(\n",
    "  \"knit_print\", \"data.frame\", knit_print.data.frame,\n",
    "  envir = asNamespace(\"knitr\")\n",
    ")"
   ]
  },
  {
   "cell_type": "markdown",
   "metadata": {},
   "source": [
    "# Protocol 3: Functional characterization of replicating clusters\n",
    "\n",
    "Protocol 3 demonstrates how to characterize functional gene sets contributing to cell type identity. In this section, we will focus on the characterization of inhibitory neuron subclasses as provided by the BICCN. The BICCN has shown that subclasses are strongly replicable across datasets and provided marker genes that are specific to each subclass. MetaNeighbor can be used to further quantify which pathways contribute to the subclasses' unique biological properties.\n",
    "\n",
    "## Step 1 - Creation of biologically relevant gene sets\n",
    "\n",
    "1. To compute the functional characterization of clusters, we first need an ensemble of gene sets sampling relevant biological pathways. In this protocol we will consider the Gene Ontology (GO) annotation for mouse. The scripts used to build up-to-date gene sets are here XXX, gene sets can be downloaded directly here XXX.  "
   ]
  },
  {
   "cell_type": "code",
   "execution_count": null,
   "metadata": {
    "eval": true,
    "name": "load_go"
   },
   "outputs": [],
   "source": [
    "go_sets = readRDS(\"go_mouse.rds\")"
   ]
  },
  {
   "cell_type": "markdown",
   "metadata": {},
   "source": [
    "Gene sets are stored as a named list, each element of the list corresponds to a gene set and contains a vector of gene symbols.\n",
    "\n",
    "2. Then we load our dataset containing inhibitory neurons from the BICCN. The scripts used to build the dataset can be found here XXX, the dataset can be downloaded here XXX."
   ]
  },
  {
   "cell_type": "code",
   "execution_count": null,
   "metadata": {
    "eval": true,
    "name": "load_biccn"
   },
   "outputs": [],
   "source": [
    "library(SingleCellExperiment)\n",
    "biccn_gaba = readRDS(\"biccn_gaba.rds\")\n",
    "dim(biccn_gaba)"
   ]
  },
  {
   "cell_type": "markdown",
   "metadata": {},
   "source": [
    "3. Next we restrict our gene sets to genes that are present in the dataset. We then filter gene sets to obtain gene sets of meaningful size: large enough to learn expression profiles (> 10), small enough to represent specific biological function or processes (< 100)."
   ]
  },
  {
   "cell_type": "code",
   "execution_count": null,
   "metadata": {
    "eval": true,
    "name": "filter_genes"
   },
   "outputs": [],
   "source": [
    "known_genes = rownames(biccn_gaba)\n",
    "go_sets = lapply(go_sets, function(gene_set) { gene_set[gene_set %in% known_genes] })\n",
    "min_size = 10\n",
    "max_size = 100\n",
    "go_set_size = sapply(go_sets, length)\n",
    "go_sets = go_sets[go_set_size >= min_size & go_set_size <= max_size]\n",
    "length(go_sets)"
   ]
  },
  {
   "cell_type": "markdown",
   "metadata": {},
   "source": [
    "## Step 2: Functional characterization with supervised MetaNeighbor\n",
    "\n",
    "4. Once the gene set list is ready, we run the supervised \"MetaNeighbor\" function. Its inputs are similar to \"MetaNeighborUS\", but it assumes that cell types have already been matched across datasets (i.e., they have identical names). Here we will use joint BICCN subclasses, for which names have been normalized across datasets (\"Pvalb\", \"Sst\", \"Sst Chodl\", \"Vip\", \"Lamp5\", \"Sncg\"). Note that, because we are testing close to 6,500 gene sets, this step is expected to take a long time for large datasets. We recommend using this function inside a script and always save results to a file as soon as it's done."
   ]
  },
  {
   "cell_type": "code",
   "execution_count": null,
   "metadata": {
    "eval": true,
    "name": "run_metaneighbor"
   },
   "outputs": [],
   "source": [
    "library(MetaNeighbor)\n",
    "#devtools::load_all(\"~/projects/metaneighbor/MetaNeighbor\")\n",
    "\n",
    "system.time({\n",
    "aurocs = MetaNeighbor(dat = biccn_gaba,\n",
    "                      experiment_labels = biccn_gaba$study_id,\n",
    "                      celltype_labels = biccn_gaba$joint_subclass_label,\n",
    "                      genesets = go_sets[1:10],\n",
    "                      fast_version = TRUE, bplot = FALSE, batch_size = 50)\n",
    "})\n",
    "if (FALSE) {\n",
    "write.table(aurocs, \"functional_aurocs.txt\")\n",
    "}"
   ]
  },
  {
   "cell_type": "markdown",
   "metadata": {},
   "source": [
    "Later, results can be retrieved with the \"read.table\" function:"
   ]
  },
  {
   "cell_type": "code",
   "execution_count": null,
   "metadata": {
    "eval": true,
    "name": "load_results"
   },
   "outputs": [],
   "source": [
    "aurocs = read.table(\"functional_aurocs.txt\")"
   ]
  },
  {
   "cell_type": "markdown",
   "metadata": {},
   "source": [
    "5. We use the \"plotBPlot\" function on the first 100 gene sets to rapidly visualize how replicability depends on gene sets."
   ]
  },
  {
   "cell_type": "code",
   "execution_count": null,
   "metadata": {
    "eval": true,
    "fig.height": 6.5,
    "fig.width": 7,
    "name": "bean_plot"
   },
   "outputs": [],
   "source": [
    "plotBPlot(head(aurocs, 100))"
   ]
  },
  {
   "cell_type": "markdown",
   "metadata": {},
   "source": [
    "We note that, on average, gene sets contribute moderately to replicability (AUROC ~ 0.7), numerous gene sets have a performance close to random (AUROC ~ 0.5 - 0.6) and some gene sets have exceedingly high performance (AUROC > 0.8).\n",
    "\n",
    "6. To focus on gene sets that contribute highly to specificity, we create a summary table containing, for each gene set, cell type specific AUROCs, average AUROC across all cell types and gene set size."
   ]
  },
  {
   "cell_type": "code",
   "execution_count": null,
   "metadata": {
    "eval": true,
    "name": "result_table"
   },
   "outputs": [],
   "source": [
    "gs_size = sapply(go_sets, length)\n",
    "aurocs_df = as.data.frame(aurocs)\n",
    "aurocs_df$average = rowMeans(aurocs)\n",
    "aurocs_df$n_genes = gs_size[rownames(aurocs)]"
   ]
  },
  {
   "cell_type": "markdown",
   "metadata": {},
   "source": [
    "We then order gene set by AUROC and look at top scoring gene sets:"
   ]
  },
  {
   "cell_type": "code",
   "execution_count": null,
   "metadata": {
    "eval": true,
    "name": "gene_set_aurocs"
   },
   "outputs": [],
   "source": [
    "head(aurocs_df[order(aurocs_df$average, decreasing = TRUE),],10)"
   ]
  },
  {
   "cell_type": "markdown",
   "metadata": {},
   "source": [
    "Without surprise, replicability is mainly driven by gene sets related to neuronal functions that are immediately relevant to the physiology of inhibitory neurons, such as \"glutamate receptor signaling pathway\", \"regulation of synaptic transmission, glutamatergic\", or \"chemical synaptic transmission, postsynaptic\". Note that most of the top scoring gene sets have a large number of genes. To obtain even more specific biological function, we can further filter gene sets that have fewer than 20 genes."
   ]
  },
  {
   "cell_type": "code",
   "execution_count": null,
   "metadata": {
    "eval": true,
    "name": "small_set_aurocs"
   },
   "outputs": [],
   "source": [
    "small_sets = aurocs_df[aurocs_df$n_genes < 20,]\n",
    "head(small_sets[order(small_sets$average, decreasing = TRUE),],10)"
   ]
  },
  {
   "cell_type": "markdown",
   "metadata": {},
   "source": [
    "Again, the top scoring gene sets are dominated by biological functions immediately relevant to inhibitory neuron physiology, such as \"ionotropic glutamate receptor signaling pathway\", \"positive regulation of synaptic transmission, GABAergic\", or \"GABA-A receptor complex\"."
   ]
  },
  {
   "cell_type": "markdown",
   "metadata": {},
   "source": [
    "7. To understand how individual genes contribute to gene set performance, we use the \"plotDotPlot\" function, which while show the expression of all genes in a gene set of interest, averaged over all datasets."
   ]
  },
  {
   "cell_type": "code",
   "execution_count": null,
   "metadata": {
    "eval": true,
    "fig.height": 6.5,
    "fig.width": 7,
    "name": "dot_plots"
   },
   "outputs": [],
   "source": [
    "plotDotPlot(dat = biccn_gaba,\n",
    "            experiment_labels = biccn_gaba$study_id,\n",
    "            celltype_labels = biccn_gaba$joint_subclass_label,\n",
    "            gene_set = go_sets[[\"GO:0007215|glutamate receptor signaling pathway|BP\"]])\n",
    "plotDotPlot(dat = biccn_gaba,\n",
    "            experiment_labels = biccn_gaba$study_id,\n",
    "            celltype_labels = biccn_gaba$joint_subclass_label,\n",
    "            gene_set = go_sets[[\"GO:1902711|GABA-A receptor complex|CC\"]])"
   ]
  },
  {
   "cell_type": "markdown",
   "metadata": {},
   "source": [
    "High scoring gene sets are characterized by the differential usage of genes from a given gene set. For example, when looking at the GABA-A receptor complex composition, Lamp5 will preferentially use the Gabrb2 and Gabrg3 receptors, Pvalb the Gabra1 receptor, and Sst Chodl the Gabra2, Gabrb1 and Gabrg1 receptors.\n",
    "\n",
    "Once the overall replicability of clusters has been established with unsupervised MetaNeighbor (as in Protocols 1 and 2), supervised MetaNeighbor enables the functional interpretation of the biology contributing to each cell type's unique identity."
   ]
  }
 ],
 "metadata": {
  "jupytext": {
   "cell_metadata_filter": "name,fig.height,tags,eval,fig.width,-all",
   "main_language": "R",
   "notebook_metadata_filter": "-all"
  }
 },
 "nbformat": 4,
 "nbformat_minor": 2
}
