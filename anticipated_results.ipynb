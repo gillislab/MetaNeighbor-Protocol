{
 "cells": [
  {
   "cell_type": "raw",
   "metadata": {},
   "source": [
    "---\n",
    "title: \"Scaling up reproducible research for single cell transcriptomics using MetaNeighbor (Anticipated results)\"\n",
    "output:\n",
    "  pdf_document:\n",
    "    fig_caption: yes\n",
    "graphics: yes\n",
    "---"
   ]
  },
  {
   "cell_type": "markdown",
   "metadata": {},
   "source": [
    "\n",
    "# MetaNeighbor anticipated results\n",
    "\n",
    "Because MetaNeighbor is non-parametric, there is no fine-tuning to be done for any of the protocols presented here. Over time, we have identified two sources of potential error: bad highly variable gene selection and coding or formatting errors, which can be easily diagnosed by looking at AUROC heatmaps.\n",
    "\n",
    "## Bad gene set selection\n",
    "\n",
    "The most common problem is to forget to select a set of highly variable genes, which is expected to dampen the impact of technical variability on neighbor voting. First, we present an example of a correct analysis, where we load the BICCN GABAergic neurons, select highly variable genes, and compute cluster similarities (see Protocol 1 for more details). \n"
   ]
  },
  {
   "cell_type": "code",
   "execution_count": null,
   "metadata": {
    "eval": true,
    "fig.height": 6.5,
    "fig.show": "hold",
    "fig.width": 7,
    "name": "bad_gene_set",
    "out.width": "50%"
   },
   "outputs": [],
   "source": [
    "library(MetaNeighbor)\n",
    "biccn_data = readRDS(\"biccn_gaba.rds\")\n",
    "biccn_hvgs = variableGenes(biccn_data, exp_labels = biccn_data$study_id)\n",
    "\n",
    "# GOOD\n",
    "system.time({\n",
    "aurocs = MetaNeighborUS(var_genes = biccn_hvgs,\n",
    "                        dat = biccn_data,\n",
    "                        study_id = biccn_data$study_id,\n",
    "                        cell_type = biccn_data$joint_subclass_label,\n",
    "                        fast_version = TRUE)\n",
    "})\n",
    "plotHeatmap(aurocs, cex = 0.5)\n",
    "\n",
    "#BAD\n",
    "system.time({\n",
    "aurocs = MetaNeighborUS(var_genes = sample(rownames(biccn_data), length(biccn_hvgs)),\n",
    "                        dat = biccn_data,\n",
    "                        study_id = biccn_data$study_id,\n",
    "                        cell_type = biccn_data$joint_subclass_label,\n",
    "                        fast_version = TRUE)\n",
    "})\n",
    "plotHeatmap(aurocs, cex = 0.5)"
   ]
  },
  {
   "cell_type": "markdown",
   "metadata": {},
   "source": [
    "We recognize strong replicability structure, evidenced by the presence of dark red blocks. When we repeat the analysis with random genes, the replicability structure is still present, but we recognize two signatures of bad gene set selection: (a) AUROCs are low overall (shift to light red and orange), (b) within red blocks, there is a clear gradient structure. In our experience, there are 3 scenarios that lead to bad gene selection: errors in gene symbol conversion, errors when genes are stored as factors in R (that are implicitly converted to numerical values during indexing), forgetting to select highly variable genes altogether.\n",
    "\n",
    "## Pretrained MetaNeighbor: bad name formatting\n",
    "\n",
    "The second problem we have encountered is a mistake that occurs when loading pre-trained model and forgetting to specify \"check.names = FALSE\", which is essential to preserve correct formatting of cell type names. Here is an example of correct code based on data from Protocol 2."
   ]
  },
  {
   "cell_type": "code",
   "execution_count": null,
   "metadata": {
    "eval": true,
    "fig.height": 6.5,
    "fig.show": "hold",
    "fig.width": 7,
    "name": "bad_cluster_name",
    "out.width": "50%"
   },
   "outputs": [],
   "source": [
    "library(scRNAseq)\n",
    "tasic = TasicBrainData(ensembl = FALSE, location = FALSE)\n",
    "tasic$study_id = \"tasic\"\n",
    "\n",
    "#GOOD\n",
    "biccn_subclasses = read.table(\"pretrained_biccn_subclasses.txt\", check.names = FALSE)\n",
    "aurocs = MetaNeighborUS(\n",
    "  trained_model = biccn_subclasses, dat = tasic,\n",
    "  study_id = tasic$study_id, cell_type = tasic$primary_type,\n",
    "  fast_version = TRUE\n",
    ")\n",
    "plotHeatmapPretrained(aurocs)\n",
    "\n",
    "# BAD\n",
    "biccn_subclasses = read.table(\"pretrained_biccn_subclasses.txt\")\n",
    "aurocs = MetaNeighborUS(\n",
    "  trained_model = biccn_subclasses, dat = tasic,\n",
    "  study_id = tasic$study_id, cell_type = tasic$primary_type,\n",
    "  fast_version = TRUE\n",
    ")\n",
    "plotHeatmapPretrained(aurocs)"
   ]
  },
  {
   "cell_type": "markdown",
   "metadata": {},
   "source": [
    "We obtain the expected replicability structure, with evidence of strong hits across all cell types (see Protocol 2 for further details and analyses). When we forget \"check.names = FALSE\", MetaNeighbor is unable to correctly recognize dataset names and cell type names in the pre-trained model, the similarity computations become meaningless, leading to AUROC values that are essentially 0.5. This problem is easy to diagnose and fix, but can be very confusing when it occurs.\n",
    "\n",
    "## No overlap between datasets\n",
    "\n",
    "The final problem occurs when there is no overlap between datasets. We illustarte this problem with the data from Protocol 2, where we expect all cell types from the Tasic dataset to be present in the pre-trained BICCN model."
   ]
  },
  {
   "cell_type": "code",
   "execution_count": null,
   "metadata": {
    "eval": true,
    "fig.height": 6.5,
    "fig.show": "hold",
    "fig.width": 7,
    "name": "bad_overlap",
    "out.width": "50%"
   },
   "outputs": [],
   "source": [
    "biccn_subclasses = read.table(\"pretrained_biccn_subclasses.txt\", check.names = FALSE)\n",
    "global_aurocs = MetaNeighborUS(\n",
    "  trained_model = biccn_subclasses, dat = tasic,\n",
    "  study_id = tasic$study_id, cell_type = tasic$primary_type,\n",
    "  fast_version = TRUE\n",
    ")\n",
    "gabaergic_tasic = splitTestClusters(global_aurocs, k = 4)[[2]]\n",
    "\n",
    "# GOOD\n",
    "gabaergic_biccn = splitTrainClusters(global_aurocs[gabaergic_tasic,], k = 4)[[4]]\n",
    "keep_cell = makeClusterName(tasic$study_id, tasic$primary_type) %in% gabaergic_tasic\n",
    "tasic_subdata = tasic[, keep_cell]\n",
    "aurocs = MetaNeighborUS(\n",
    "  trained_model = biccn_subclasses[, gabaergic_biccn],\n",
    "  dat = tasic_subdata, study_id = tasic_subdata$study_id,\n",
    "  cell_type = tasic_subdata$primary_type, fast_version = TRUE\n",
    ")\n",
    "plotHeatmapPretrained(aurocs, cex = 0.7)\n",
    "\n",
    "# BAD: non-neurons instead of GABAergic neurons\n",
    "gabaergic_biccn = splitTrainClusters(global_aurocs, k = 5)[[1]]\n",
    "keep_cell = makeClusterName(tasic$study_id, tasic$primary_type) %in% gabaergic_tasic\n",
    "tasic_subdata = tasic[, keep_cell]\n",
    "aurocs = MetaNeighborUS(\n",
    "  trained_model = biccn_subclasses[, gabaergic_biccn],\n",
    "  dat = tasic_subdata, study_id = tasic_subdata$study_id,\n",
    "  cell_type = tasic_subdata$primary_type, fast_version = TRUE\n",
    ")\n",
    "plotHeatmapPretrained(aurocs, cex = 0.7)"
   ]
  },
  {
   "cell_type": "markdown",
   "metadata": {},
   "source": [
    "According to our expectations, all cell types have strong hits with BICCN clusters and we see a hierarchical structure that is consistent with prior biological knowledge: lighter red blocks corresponding to MGE and CGE-derived inhibitory neurons. We compare with the same block of code, where we mistakenly keep non-neurons from the BICCN taxonomy instead of inhibitory neurons.\n",
    "The lack of biological overlap can be deduced from 3 factors: (a) low AUROC values overall, (b) almost no strong hits (contrary to expectations), (c) lack of expected hierarchical structure (MGE and CGE derived interneurons)."
   ]
  }
 ],
 "metadata": {
  "jupytext": {
   "cell_metadata_filter": "out.width,name,fig.height,eval,fig.width,fig.show,-all",
   "main_language": "R",
   "notebook_metadata_filter": "-all"
  }
 },
 "nbformat": 4,
 "nbformat_minor": 2
}
